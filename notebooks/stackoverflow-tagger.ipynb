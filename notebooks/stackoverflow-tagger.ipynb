{
 "cells": [
  {
   "cell_type": "markdown",
   "metadata": {},
   "source": [
    "25th of october presentation\n",
    "\n",
    "Process\n",
    "====\n",
    "\n",
    "1. Business Understanding\n",
    "    - Predict and suggest relevant tags for your stackoverflow questions.\n",
    "    - Examples:\n",
    "        - 'Raspberry Pi optimized backtrace()' -> ['c++11', 'raspberry-pi']\n",
    "        - 'StereoBM doesn't give proper output' -> ['java', 'opencv']\n",
    "        - 'Get parent route params from a lazy loaded route component' -> ['angular', 'typescript']\n",
    "        - 'Why does a 3D point appear to be behind the camera?' -> ['computer-vision', 'camera-calibration', 'projection-matrix']  \n",
    "\n",
    "2. Data Understanding\n",
    "    - Scrape data\n",
    "    - See if the data looks ok\n",
    "    - Exploratory Data Analysis (is the data unbalanced? Summary statistics)\n",
    "\n",
    "3. Data Preparation\n",
    "    - Cleaning (punctionation removal, anything else?)\n",
    "    - Tokenisation\n",
    "\n",
    "4. Modelling\n",
    "    - Many one-vs-all logistic regression models\n",
    "        - train one model for each label, independently predict (isn't this similar to naive bayes?)\n",
    "    - Bag of words models\n",
    "        - TF-IDF\n",
    "    - Word2vec\n",
    "        - Looks at words that occur around each word\n",
    "    - Deep Learning\n",
    "        - Neural Network Language Model (NNLM)\n",
    "        - Attention based models\n",
    "        \n",
    "    - how does NLTK fit into this? Naive Bayes classifier on each word?\n",
    "\n",
    "5. Evaluation\n",
    "    - Which loss function for multilabel/multiclass classification?\n",
    "    - K-L divergence?\n",
    "    - Cross validation\n",
    "    - Performance on test set\n",
    "\n",
    "6. Deployment\n",
    "    - setup web server -> plot.ly, flask, bokeh?\n",
    "    - show the predictions from each model for any text entered by the user\n",
    "    - try on other languages/domains (does anything transfer?)\n",
    "    - Ask audience for a question they'd like: I can't tell them the answer, but just the categories it belongs to\n",
    "\n"
   ]
  },
  {
   "cell_type": "markdown",
   "metadata": {},
   "source": []
  }
 ],
 "metadata": {
  "kernelspec": {
   "display_name": "Python [default]",
   "language": "python",
   "name": "python3"
  },
  "language_info": {
   "codemirror_mode": {
    "name": "ipython",
    "version": 3
   },
   "file_extension": ".py",
   "mimetype": "text/x-python",
   "name": "python",
   "nbconvert_exporter": "python",
   "pygments_lexer": "ipython3",
   "version": "3.6.1"
  }
 },
 "nbformat": 4,
 "nbformat_minor": 2
}
